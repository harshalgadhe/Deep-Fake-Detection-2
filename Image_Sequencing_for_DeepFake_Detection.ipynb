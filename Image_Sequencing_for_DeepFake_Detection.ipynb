{
  "nbformat": 4,
  "nbformat_minor": 0,
  "metadata": {
    "colab": {
      "name": "Image Sequencing for DeepFake Detection",
      "provenance": [],
      "collapsed_sections": []
    },
    "kernelspec": {
      "name": "python3",
      "display_name": "Python 3"
    },
    "language_info": {
      "name": "python"
    },
    "accelerator": "GPU"
  },
  "cells": [
    {
      "cell_type": "markdown",
      "metadata": {
        "id": "MenLlnhBly6F"
      },
      "source": [
        "<h1>Importing Liabraries and Dataset</h1>"
      ]
    },
    {
      "cell_type": "code",
      "metadata": {
        "colab": {
          "base_uri": "https://localhost:8080/"
        },
        "id": "cSG0I7KAho_z",
        "outputId": "6c8f8e31-3b8c-4769-e84a-2debe178fac1"
      },
      "source": [
        "'''note : while running this cell you may face a error as cannot import name 'Sequence' from 'keras.utils' for that you \n",
        "just need to click on the generator.py file shown in the error and then a popup showing generator file will come. In the \n",
        "18 th line you just need to replace 'keras.utils import Sequence' with 'tensorflow.keras.utils import Sequence' '''\n",
        "\n",
        "!pip install keras-video-generators\n",
        "!pip install mtcnn\n",
        "\n",
        "from google.colab import drive\n",
        "import os\n",
        "import cv2 as cv\n",
        "import tensorflow as tf\n",
        "from tensorflow import keras\n",
        "import os\n",
        "import glob\n",
        "import keras\n",
        "from tensorflow.keras.utils import Sequence\n",
        "from keras_video import VideoFrameGenerator\n",
        "from keras.layers import *\n",
        "import matplotlib.pyplot as plt\n",
        "from mtcnn.mtcnn import MTCNN\n",
        "import pandas as pd\n",
        "import json\n",
        "import numpy as np\n",
        "import gc\n",
        "from tensorflow.keras.applications.resnet50 import ResNet50\n",
        "from keras.layers import Dense,Conv2D,MaxPooling2D,BatchNormalization,Dropout\n",
        "from keras.models import Sequential\n",
        "from keras.preprocessing.image import ImageDataGenerator\n",
        "from keras.utils.np_utils import to_categorical"
      ],
      "execution_count": 34,
      "outputs": [
        {
          "output_type": "stream",
          "name": "stdout",
          "text": [
            "Requirement already satisfied: keras-video-generators in /usr/local/lib/python3.7/dist-packages (1.0.14)\n",
            "Requirement already satisfied: opencv-python in /usr/local/lib/python3.7/dist-packages (from keras-video-generators) (4.1.2.30)\n",
            "Requirement already satisfied: numpy in /usr/local/lib/python3.7/dist-packages (from keras-video-generators) (1.19.5)\n",
            "Requirement already satisfied: matplotlib in /usr/local/lib/python3.7/dist-packages (from keras-video-generators) (3.2.2)\n",
            "Requirement already satisfied: keras>=2 in /usr/local/lib/python3.7/dist-packages (from keras-video-generators) (2.6.0)\n",
            "Requirement already satisfied: python-dateutil>=2.1 in /usr/local/lib/python3.7/dist-packages (from matplotlib->keras-video-generators) (2.8.2)\n",
            "Requirement already satisfied: pyparsing!=2.0.4,!=2.1.2,!=2.1.6,>=2.0.1 in /usr/local/lib/python3.7/dist-packages (from matplotlib->keras-video-generators) (2.4.7)\n",
            "Requirement already satisfied: kiwisolver>=1.0.1 in /usr/local/lib/python3.7/dist-packages (from matplotlib->keras-video-generators) (1.3.2)\n",
            "Requirement already satisfied: cycler>=0.10 in /usr/local/lib/python3.7/dist-packages (from matplotlib->keras-video-generators) (0.10.0)\n",
            "Requirement already satisfied: six in /usr/local/lib/python3.7/dist-packages (from cycler>=0.10->matplotlib->keras-video-generators) (1.15.0)\n",
            "Collecting mtcnn\n",
            "  Downloading mtcnn-0.1.1-py3-none-any.whl (2.3 MB)\n",
            "\u001b[K     |████████████████████████████████| 2.3 MB 5.4 MB/s \n",
            "\u001b[?25hRequirement already satisfied: keras>=2.0.0 in /usr/local/lib/python3.7/dist-packages (from mtcnn) (2.6.0)\n",
            "Requirement already satisfied: opencv-python>=4.1.0 in /usr/local/lib/python3.7/dist-packages (from mtcnn) (4.1.2.30)\n",
            "Requirement already satisfied: numpy>=1.14.5 in /usr/local/lib/python3.7/dist-packages (from opencv-python>=4.1.0->mtcnn) (1.19.5)\n",
            "Installing collected packages: mtcnn\n",
            "Successfully installed mtcnn-0.1.1\n"
          ]
        }
      ]
    },
    {
      "cell_type": "markdown",
      "metadata": {
        "id": "u0OWdl9Gl_zJ"
      },
      "source": [
        "<h3>We will now mount our drive on the colab file so as to access the drive folders</h3>"
      ]
    },
    {
      "cell_type": "code",
      "metadata": {
        "colab": {
          "base_uri": "https://localhost:8080/"
        },
        "id": "VgCsKeyzhrlU",
        "outputId": "0ad01b02-15af-4669-9c04-f5b27e2739f7"
      },
      "source": [
        "drive.mount('/content/drive')"
      ],
      "execution_count": 2,
      "outputs": [
        {
          "output_type": "stream",
          "name": "stdout",
          "text": [
            "Mounted at /content/drive\n"
          ]
        }
      ]
    },
    {
      "cell_type": "markdown",
      "metadata": {
        "id": "xPCkl_5boCqr"
      },
      "source": [
        "<h1> Data Preprocessing and Custom Generator</h1>\n"
      ]
    },
    {
      "cell_type": "markdown",
      "metadata": {
        "id": "DTIckAf9t9cM"
      },
      "source": [
        "<h4>This dataset has videos which have been already preprocessed and contains only face cropped images</h4>"
      ]
    },
    {
      "cell_type": "code",
      "metadata": {
        "id": "VaWKjoexmo2k"
      },
      "source": [
        "# this function will get the classes names according to the directories and the passed the data for augmentation and generating batches\n",
        "# we used custom model since we need data in shape of (number of frames, (size of image/frame),3) to train our model\n",
        "\n",
        "#we will pass only 10 frames to our model since we don't have resources to train our model on 100 frames\n",
        "\n",
        "classes = ['Fake','Real']\n",
        "classes.sort()\n",
        "\n",
        "SIZE = (112,112)\n",
        "CHANNELS = 3\n",
        "NBFRAME = 10\n",
        "BS = 4\n",
        "# pattern to get videos and classes\n",
        "glob_pattern='/content/drive/MyDrive/deepfake_detection/DeepFake_Detection/Train (Upgradation)/{classname}/*.mp4'"
      ],
      "execution_count": 6,
      "outputs": []
    },
    {
      "cell_type": "code",
      "metadata": {
        "colab": {
          "base_uri": "https://localhost:8080/"
        },
        "id": "fSWLLAObm8gG",
        "outputId": "263b116c-c5ce-45ce-c731-7517e34f7c30"
      },
      "source": [
        "# we will only rescale our images and won't use any data augmentation technique\n",
        "# train files consists of total 3775 files and validation files consists of 665 files\n",
        "\n",
        "data_aug = keras.preprocessing.image.ImageDataGenerator(\n",
        "    rescale=1.0/255\n",
        "    )\n",
        "# Create video frame generator\n",
        "train = VideoFrameGenerator(\n",
        "    classes=classes, \n",
        "    glob_pattern=glob_pattern,\n",
        "    nb_frames=NBFRAME,\n",
        "    split=.15, \n",
        "    shuffle=True,\n",
        "    batch_size=BS,\n",
        "    target_shape=SIZE,\n",
        "    nb_channel=CHANNELS,\n",
        "    transformation=data_aug,\n",
        "    use_frame_cache=False)"
      ],
      "execution_count": 7,
      "outputs": [
        {
          "output_type": "stream",
          "name": "stderr",
          "text": [
            "Warning, `split` argument is replaced by `split_val`, please condider to change your source code.The `split` argument will be removed in future releases.\n"
          ]
        },
        {
          "output_type": "stream",
          "name": "stdout",
          "text": [
            "class Fake, validation count: 319, train count: 1812\n",
            "class Real, validation count: 346, train count: 1963\n",
            "Total data: 2 classes for 3775 files for train\n"
          ]
        }
      ]
    },
    {
      "cell_type": "code",
      "metadata": {
        "colab": {
          "base_uri": "https://localhost:8080/"
        },
        "id": "nHY_GuJgnfRH",
        "outputId": "5221dca0-b129-4d06-ed06-e56f649c3eed"
      },
      "source": [
        "valid = train.get_validation_generator()"
      ],
      "execution_count": 8,
      "outputs": [
        {
          "output_type": "stream",
          "name": "stdout",
          "text": [
            "Total data: 2 classes for 665 files for validation\n"
          ]
        }
      ]
    },
    {
      "cell_type": "markdown",
      "metadata": {
        "id": "uDcc4dXHpWUE"
      },
      "source": [
        "<h1>Building Model</h1>"
      ]
    },
    {
      "cell_type": "code",
      "metadata": {
        "id": "wPEILulRnznh"
      },
      "source": [
        "# we have made our custom model and will use resnet50 architecture for prediction by fine tuning it\n",
        "\n",
        "from keras.layers import Conv2D, BatchNormalization, \\\n",
        "    MaxPool2D, GlobalMaxPool2D\n",
        "\n",
        "def build_convnet(shape=(112,112, 3)):\n",
        "    \n",
        "    model = keras.Sequential()\n",
        "    resnet = ResNet50(include_top=False, weights='imagenet', input_shape=shape)\n",
        "\n",
        "    # due to resource exhaustation we are not doing fine tuning\n",
        "    \n",
        "    for layer in resnet.layers:\n",
        "      layer.trainable = False\n",
        "\n",
        "    model.add(resnet)\n",
        "    model.add(Dropout(0.25))\n",
        "    model.add(GlobalMaxPool2D())\n",
        "    \n",
        "    return model"
      ],
      "execution_count": 17,
      "outputs": []
    },
    {
      "cell_type": "code",
      "metadata": {
        "id": "kBhKzR2tn1vl"
      },
      "source": [
        "# this function defined the time distributed layer which is used for image sequencing or when feeding multiple images to the model\n",
        "\n",
        "from keras.layers import TimeDistributed, LSTM, Dense, Dropout,Flatten\n",
        "def action_model(shape=(100, 112,112, 3),nbout=1):\n",
        "    \n",
        "    convnet = build_convnet(shape[1:])\n",
        "    \n",
        "    # then create our final model\n",
        "    model = keras.Sequential()\n",
        "    \n",
        "    model.add(TimeDistributed(convnet, input_shape=shape))\n",
        "    \n",
        "    model.add(LSTM(100))\n",
        "    model.add(Dropout(.5))\n",
        "    model.add(Dense(100, activation='relu'))\n",
        "    model.add(Dropout(.5))\n",
        "    model.add(Dense(2, activation='softmax'))\n",
        "    return model"
      ],
      "execution_count": 18,
      "outputs": []
    },
    {
      "cell_type": "code",
      "metadata": {
        "id": "vWNkiOEvn4jf"
      },
      "source": [
        "# we will use binary crossentopy as our loss and adam optimizer\n",
        "\n",
        "INSHAPE=(NBFRAME,) + SIZE + (CHANNELS,) # (10, 112, 112, 3)\n",
        "\n",
        "model = action_model(INSHAPE, 2)\n",
        "optimizer = tf.optimizers.Adam(0.001)\n",
        "model.compile(\n",
        "    optimizer,\n",
        "    'binary_crossentropy',\n",
        "    metrics=['accuracy']\n",
        ")"
      ],
      "execution_count": 19,
      "outputs": []
    },
    {
      "cell_type": "code",
      "metadata": {
        "colab": {
          "base_uri": "https://localhost:8080/"
        },
        "id": "Dmo_OO1P5CXp",
        "outputId": "bf66df4f-61d7-4a6c-9b99-b20999b93913"
      },
      "source": [
        "model.summary()"
      ],
      "execution_count": 20,
      "outputs": [
        {
          "output_type": "stream",
          "name": "stdout",
          "text": [
            "Model: \"sequential_3\"\n",
            "_________________________________________________________________\n",
            "Layer (type)                 Output Shape              Param #   \n",
            "=================================================================\n",
            "time_distributed_1 (TimeDist (None, 10, 2048)          23587712  \n",
            "_________________________________________________________________\n",
            "lstm_1 (LSTM)                (None, 100)               859600    \n",
            "_________________________________________________________________\n",
            "dropout_4 (Dropout)          (None, 100)               0         \n",
            "_________________________________________________________________\n",
            "dense_2 (Dense)              (None, 100)               10100     \n",
            "_________________________________________________________________\n",
            "dropout_5 (Dropout)          (None, 100)               0         \n",
            "_________________________________________________________________\n",
            "dense_3 (Dense)              (None, 2)                 202       \n",
            "=================================================================\n",
            "Total params: 24,457,614\n",
            "Trainable params: 869,902\n",
            "Non-trainable params: 23,587,712\n",
            "_________________________________________________________________\n"
          ]
        }
      ]
    },
    {
      "cell_type": "markdown",
      "metadata": {
        "id": "WB2R6CdIqFhI"
      },
      "source": [
        "<h1>Training the Model</h1>"
      ]
    },
    {
      "cell_type": "code",
      "metadata": {
        "colab": {
          "base_uri": "https://localhost:8080/"
        },
        "id": "d5P_MDHSoJQv",
        "outputId": "00d7cdbd-a5f5-4bb2-c2f2-73c249935d3f"
      },
      "source": [
        "# we will save our weights to this folder\n",
        "try:\n",
        "  os.mkdir('/content/drive/MyDrive/deepfake_detection/DeepFake_Detection/Train (Upgradation)/chkp/')\n",
        "\n",
        "except:\n",
        "  print('Directory Exits')\n",
        "  \n",
        "for files in os.listdir('/content/drive/MyDrive/deepfake_detection/DeepFake_Detection/Train (Upgradation)/chkp/'):\n",
        "    os.remove('/content/drive/MyDrive/deepfake_detection/DeepFake_Detection/Train (Upgradation)/chkp'+files)"
      ],
      "execution_count": 23,
      "outputs": [
        {
          "output_type": "stream",
          "name": "stdout",
          "text": [
            "Directory Exits\n"
          ]
        }
      ]
    },
    {
      "cell_type": "code",
      "metadata": {
        "colab": {
          "base_uri": "https://localhost:8080/"
        },
        "id": "JTG7FKK5oEBe",
        "outputId": "d6e291f7-49ee-4870-916b-b137202751f3"
      },
      "source": [
        "EPOCHS=2\n",
        "# create a \"chkp\" directory before to run that\n",
        "# because ModelCheckpoint will write models inside\n",
        "\n",
        "callbacks = [\n",
        "    keras.callbacks.ReduceLROnPlateau(verbose=1),\n",
        "    keras.callbacks.ModelCheckpoint(\n",
        "        '/content/drive/MyDrive/deepfake_detection/DeepFake_Detection/Train (Upgradation)/chkp/weights.{epoch:02d}-{accuracy:.2f}.hdf5',\n",
        "        verbose=1),\n",
        "]\n",
        "history = model.fit(\n",
        "    train,\n",
        "    validation_data=valid,\n",
        "    verbose=1,\n",
        "    epochs=EPOCHS,\n",
        "    callbacks=callbacks,\n",
        "    batch_size=4\n",
        ")"
      ],
      "execution_count": 25,
      "outputs": [
        {
          "output_type": "stream",
          "name": "stdout",
          "text": [
            "Epoch 1/2\n",
            "943/943 [==============================] - 1400s 1s/step - loss: 0.7133 - accuracy: 0.4963 - val_loss: 0.6923 - val_accuracy: 0.5211\n",
            "\n",
            "Epoch 00001: saving model to /content/drive/MyDrive/deepfake_detection/DeepFake_Detection/Train (Upgradation)/chkp/weights.01-0.50.hdf5\n"
          ]
        },
        {
          "output_type": "stream",
          "name": "stderr",
          "text": [
            "/usr/local/lib/python3.7/dist-packages/keras/utils/generic_utils.py:497: CustomMaskWarning: Custom mask layers require a config and must override get_config. When loading, the custom mask layer must be passed to the custom_objects argument.\n",
            "  category=CustomMaskWarning)\n"
          ]
        },
        {
          "output_type": "stream",
          "name": "stdout",
          "text": [
            "Epoch 2/2\n",
            "943/943 [==============================] - 105s 112ms/step - loss: 0.6969 - accuracy: 0.5077 - val_loss: 0.6923 - val_accuracy: 0.5211\n",
            "\n",
            "Epoch 00002: saving model to /content/drive/MyDrive/deepfake_detection/DeepFake_Detection/Train (Upgradation)/chkp/weights.02-0.51.hdf5\n"
          ]
        }
      ]
    },
    {
      "cell_type": "code",
      "metadata": {
        "colab": {
          "base_uri": "https://localhost:8080/"
        },
        "id": "k1Qo96oesNo1",
        "outputId": "decb0ebf-af35-4595-8916-622535da661a"
      },
      "source": [
        "#save weight so we can use it later\n",
        "\n",
        "try:\n",
        "  os.mkdir('/content/drive/MyDrive/deepfake_detection/DeepFake_Detection/weights(upgradation)')\n",
        "\n",
        "except:\n",
        "  print('Directory already exists')\n",
        "  \n",
        "model.save('/content/drive/MyDrive/deepfake_detection/DeepFake_Detection/weights(upgradation)/weights')"
      ],
      "execution_count": 26,
      "outputs": [
        {
          "output_type": "stream",
          "name": "stderr",
          "text": [
            "WARNING:absl:Found untraced functions such as lstm_cell_1_layer_call_and_return_conditional_losses, lstm_cell_1_layer_call_fn, lstm_cell_1_layer_call_fn, lstm_cell_1_layer_call_and_return_conditional_losses, lstm_cell_1_layer_call_and_return_conditional_losses while saving (showing 5 of 5). These functions will not be directly callable after loading.\n"
          ]
        },
        {
          "output_type": "stream",
          "name": "stdout",
          "text": [
            "INFO:tensorflow:Assets written to: /content/drive/MyDrive/deepfake_detection/DeepFake_Detection/weights(upgradation)/weights/assets\n"
          ]
        },
        {
          "output_type": "stream",
          "name": "stderr",
          "text": [
            "INFO:tensorflow:Assets written to: /content/drive/MyDrive/deepfake_detection/DeepFake_Detection/weights(upgradation)/weights/assets\n",
            "/usr/local/lib/python3.7/dist-packages/keras/utils/generic_utils.py:497: CustomMaskWarning: Custom mask layers require a config and must override get_config. When loading, the custom mask layer must be passed to the custom_objects argument.\n",
            "  category=CustomMaskWarning)\n"
          ]
        }
      ]
    },
    {
      "cell_type": "code",
      "metadata": {
        "id": "iTaDfIpGs7VN"
      },
      "source": [
        "#this custom graph can plot graph for loss as well for accuracy\n",
        "def plot_graph(history,string):\n",
        "    \n",
        "    plt.plot(history.history[string],label='training '+string)\n",
        "    plt.plot(history.history['val_'+string],label='validation '+string)\n",
        "    plt.legend()\n",
        "    plt.xlabel('epochs')\n",
        "    plt.ylabel(string)\n",
        "    plt.grid()\n",
        "    plt.title(string+' vs epochs')\n",
        "    plt.savefig('./'+string+'.png')\n",
        "    plt.show()"
      ],
      "execution_count": 27,
      "outputs": []
    },
    {
      "cell_type": "code",
      "metadata": {
        "colab": {
          "base_uri": "https://localhost:8080/",
          "height": 295
        },
        "id": "U9w8a3dms-kR",
        "outputId": "78eda72a-9b04-4ec8-a30c-3df496a6f3d5"
      },
      "source": [
        "# plot loss graph\n",
        "plot_graph(history,'loss')"
      ],
      "execution_count": 28,
      "outputs": [
        {
          "output_type": "display_data",
          "data": {
            "image/png": "[encoded data removed]",
            "text/plain": [
              "<Figure size 432x288 with 1 Axes>"
            ]
          },
          "metadata": {
            "needs_background": "light"
          }
        }
      ]
    },
    {
      "cell_type": "code",
      "metadata": {
        "colab": {
          "base_uri": "https://localhost:8080/",
          "height": 295
        },
        "id": "B_W9-ePvtCaS",
        "outputId": "69c91cbe-b23b-4fed-c0dd-970e5c0844b0"
      },
      "source": [
        "# plot accuracy graph\n",
        "plot_graph(history,'accuracy')"
      ],
      "execution_count": 29,
      "outputs": [
        {
          "output_type": "display_data",
          "data": {
            "image/png": "[encoded data removed]",
            "text/plain": [
              "<Figure size 432x288 with 1 Axes>"
            ]
          },
          "metadata": {
            "needs_background": "light"
          }
        }
      ]
    },
    {
      "cell_type": "markdown",
      "metadata": {
        "id": "yR-hVNfutKx6"
      },
      "source": [
        "<h1>Prediction</h1>"
      ]
    },
    {
      "cell_type": "code",
      "metadata": {
        "colab": {
          "base_uri": "https://localhost:8080/"
        },
        "id": "v1fsRgV7tOVf",
        "outputId": "31a2f4b7-6948-43cc-8a7e-f70d8cba1c6f"
      },
      "source": [
        "#loading the saved model\n",
        "\n",
        "model = keras.models.load_model('/content/drive/MyDrive/deepfake_detection/DeepFake_Detection/weights(upgradation)/weights')"
      ],
      "execution_count": 30,
      "outputs": [
        {
          "output_type": "execute_result",
          "data": {
            "text/plain": [
              "<keras.engine.sequential.Sequential at 0x7fcc3fd4b0d0>"
            ]
          },
          "metadata": {},
          "execution_count": 30
        }
      ]
    },
    {
      "cell_type": "code",
      "metadata": {
        "id": "knCCR1PYtY4Z"
      },
      "source": [
        "# crop_frames cropped the faces from the video and then stacked it together\n",
        "\n",
        "def crop_frames(image,img_stack,k,size):\n",
        "    \n",
        "    faces = detector.detect_faces(image)\n",
        "    p= 60\n",
        "    \n",
        "    if(len(faces)>0):\n",
        "        for face in faces:\n",
        "\n",
        "            x, y, width, height = face['box']\n",
        "            x = x - min(x,60)\n",
        "            x1 = x+width+ min(image.shape[1]-x-width,60)\n",
        "            y = y - min(y,60)\n",
        "            y1 = y+height+ min(image.shape[0]-y-height,60)\n",
        "            crop = np.array(image[y:y1,x:x1])\n",
        "            crop = cv.cvtColor(crop,cv.COLOR_BGR2RGB)\n",
        "            crop = cv.resize(crop,size)\n",
        "            k = k+1\n",
        "            \n",
        "            if k>=frames:\n",
        "                break\n",
        "\n",
        "            img_stack.append(crop)\n",
        "\n",
        "    return k,img_stack"
      ],
      "execution_count": 36,
      "outputs": []
    },
    {
      "cell_type": "code",
      "metadata": {
        "colab": {
          "base_uri": "https://localhost:8080/"
        },
        "id": "-AG7jQHkui9q",
        "outputId": "06ad3a01-f11a-45fd-f52f-74003417e9c5"
      },
      "source": [
        "# model which is used to predict video , you just need to set the path\n",
        "\n",
        "detector = MTCNN()\n",
        "\n",
        "size = (112,112)\n",
        "frames = 11\n",
        "iter = 100\n",
        "\n",
        "frame = np.arange(10,iter)\n",
        "\n",
        "path = '/content/drive/MyDrive/deepfake_detection/DeepFake_Detection/Train (Upgradation)/Real/abbgqbrdiz.mp4' # add the path to the video you want to predict for\n",
        "\n",
        "cnt = 0\n",
        "k = 0\n",
        "cap = cv.VideoCapture(path)\n",
        "\n",
        "img_stack = []\n",
        "    \n",
        "while(cnt<iter):\n",
        "  _,image = cap.read()\n",
        "          \n",
        "  if cnt in frame:\n",
        "    k,img_stack = crop_frames(image,img_stack,k,size)\n",
        "          \n",
        "  if k == frames:\n",
        "    break\n",
        "\n",
        "  cnt= cnt+1\n",
        "    \n",
        "img_stack = np.array(img_stack).reshape(-1,10,112,112,3)\n",
        "        \n",
        "output = np.argmax(model.predict(img_stack))\n",
        "\n",
        "if output==0:\n",
        "  print('Video is forged')\n",
        "\n",
        "else:\n",
        "  print('Video is real')\n"
      ],
      "execution_count": 50,
      "outputs": [
        {
          "output_type": "stream",
          "name": "stdout",
          "text": [
            "Video is real\n"
          ]
        }
      ]
    }
  ]
}